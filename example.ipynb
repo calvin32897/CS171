{
 "cells": [
  {
   "cell_type": "code",
   "execution_count": 72,
   "metadata": {},
   "outputs": [],
   "source": [
    "import numpy as np\n",
    "import pandas as pd\n",
    "import matplotlib.pyplot as plt\n",
    "import seaborn as sb\n",
    "import random as rand\n",
    "from sklearn.model_selection import train_test_split\n",
    "from sklearn.neighbors import KNeighborsClassifier\n",
    "from collections import Counter\n",
    "data_names = ['sepal_length', 'sepal_width', 'petal_length', 'petal_width', 'label']\n",
    "data = pd.read_csv('iris.data', \n",
    "                   names = data_names)"
   ]
  },
  {
   "cell_type": "code",
   "execution_count": 73,
   "metadata": {},
   "outputs": [
    {
     "name": "stdout",
     "output_type": "stream",
     "text": [
      "sepal_length            5.1\n",
      "sepal_width             3.5\n",
      "petal_length            1.4\n",
      "petal_width             0.2\n",
      "label           Iris-setosa\n",
      "Name: 0, dtype: object\n"
     ]
    }
   ],
   "source": [
    "print(data.loc[0])"
   ]
  },
  {
   "cell_type": "code",
   "execution_count": 74,
   "metadata": {},
   "outputs": [
    {
     "name": "stdout",
     "output_type": "stream",
     "text": [
      "5.1\n"
     ]
    }
   ],
   "source": [
    "print(data.loc[0][0])"
   ]
  },
  {
   "cell_type": "code",
   "execution_count": 75,
   "metadata": {},
   "outputs": [
    {
     "name": "stdout",
     "output_type": "stream",
     "text": [
      "5.1\n"
     ]
    }
   ],
   "source": [
    "print(data.sepal_length[0])"
   ]
  },
  {
   "cell_type": "code",
   "execution_count": 76,
   "metadata": {},
   "outputs": [
    {
     "name": "stdout",
     "output_type": "stream",
     "text": [
      "[5.1 3.5 1.4 0.2 'Iris-setosa']\n"
     ]
    }
   ],
   "source": [
    "print(data.loc[0].values)"
   ]
  },
  {
   "cell_type": "code",
   "execution_count": 77,
   "metadata": {},
   "outputs": [
    {
     "name": "stdout",
     "output_type": "stream",
     "text": [
      "[[7.  6.4 6.9 5.5]\n",
      " [6.5 5.7 6.3 4.9]\n",
      " [6.6 5.2 5.  5.9]\n",
      " [6.  6.1 5.6 6.7]\n",
      " [5.6 5.8 6.2 5.6]\n",
      " [5.9 6.1 6.3 6.1]\n",
      " [6.4 6.6 6.8 6.7]\n",
      " [6.  5.7 5.5 5.5]\n",
      " [5.8 6.  5.4 6. ]\n",
      " [6.7 6.3 5.6 5.5]\n",
      " [5.5 6.1 5.8 5. ]\n",
      " [5.6 5.7 5.7 6.2]\n",
      " [5.1 5.7 6.3 5.8]\n",
      " [7.1 6.3 6.5 7.6]\n",
      " [4.9 7.3 6.7 7.2]\n",
      " [6.5 6.4 6.8 5.7]\n",
      " [5.8 6.4 6.5 7.7]\n",
      " [7.7 6.  6.9 5.6]\n",
      " [7.7 6.3 6.7 7.2]\n",
      " [6.2 6.1 6.4 7.2]\n",
      " [7.4 7.9 6.4 6.3]\n",
      " [6.1 7.7 6.3 6.4]\n",
      " [6.  6.9 6.7 6.9]\n",
      " [5.8 6.8 6.7 6.7]\n",
      " [6.3 6.5 6.2 5.9]]\n",
      "0\n",
      "1\n",
      "2\n",
      "3\n",
      "4\n",
      "5\n",
      "6\n",
      "7\n",
      "8\n",
      "9\n",
      "10\n",
      "11\n",
      "12\n",
      "13\n",
      "14\n",
      "15\n",
      "16\n",
      "17\n",
      "18\n",
      "19\n",
      "20\n",
      "21\n",
      "22\n",
      "23\n",
      "24\n"
     ]
    }
   ],
   "source": [
    "sub_data = data.loc[data['label'] != 'Iris-setosa', :]\n",
    "y = sub_data['petal_length'].values\n",
    "x = sub_data['sepal_length'].values\n",
    "#array reshaped with 25 rows and 4 columns :  100 data 25*4 = 100\n",
    "x = x.reshape(25, 4)\n",
    "print(x)\n",
    "for i in range(len(x)):\n",
    "    print(i)"
   ]
  },
  {
   "cell_type": "code",
   "execution_count": 78,
   "metadata": {},
   "outputs": [
    {
     "name": "stdout",
     "output_type": "stream",
     "text": [
      "[[7.  6.4 6.9 5.5 6.5]\n",
      " [5.7 6.3 4.9 6.6 5.2]\n",
      " [5.  5.9 6.  6.1 5.6]\n",
      " [6.7 5.6 5.8 6.2 5.6]\n",
      " [5.9 6.1 6.3 6.1 6.4]\n",
      " [6.6 6.8 6.7 6.  5.7]\n",
      " [5.5 5.5 5.8 6.  5.4]\n",
      " [6.  6.7 6.3 5.6 5.5]\n",
      " [5.5 6.1 5.8 5.  5.6]\n",
      " [5.7 5.7 6.2 5.1 5.7]\n",
      " [6.3 5.8 7.1 6.3 6.5]\n",
      " [7.6 4.9 7.3 6.7 7.2]\n",
      " [6.5 6.4 6.8 5.7 5.8]\n",
      " [6.4 6.5 7.7 7.7 6. ]\n",
      " [6.9 5.6 7.7 6.3 6.7]\n",
      " [7.2 6.2 6.1 6.4 7.2]\n",
      " [7.4 7.9 6.4 6.3 6.1]\n",
      " [7.7 6.3 6.4 6.  6.9]\n",
      " [6.7 6.9 5.8 6.8 6.7]\n",
      " [6.7 6.3 6.5 6.2 5.9]]\n"
     ]
    }
   ],
   "source": [
    "#unknown row and 5 columns\n",
    "x = x.reshape(-1, 5)\n",
    "print(x)"
   ]
  },
  {
   "cell_type": "code",
   "execution_count": 79,
   "metadata": {},
   "outputs": [
    {
     "name": "stdout",
     "output_type": "stream",
     "text": [
      "[[7.  6.4 6.9 5.5 6.5]\n",
      " [5.7 6.3 4.9 6.6 5.2]\n",
      " [5.  5.9 6.  6.1 5.6]\n",
      " [6.7 5.6 5.8 6.2 5.6]\n",
      " [5.9 6.1 6.3 6.1 6.4]\n",
      " [6.6 6.8 6.7 6.  5.7]\n",
      " [5.5 5.5 5.8 6.  5.4]\n",
      " [6.  6.7 6.3 5.6 5.5]\n",
      " [5.5 6.1 5.8 5.  5.6]\n",
      " [5.7 5.7 6.2 5.1 5.7]\n",
      " [6.3 5.8 7.1 6.3 6.5]\n",
      " [7.6 4.9 7.3 6.7 7.2]\n",
      " [6.5 6.4 6.8 5.7 5.8]\n",
      " [6.4 6.5 7.7 7.7 6. ]\n",
      " [6.9 5.6 7.7 6.3 6.7]\n",
      " [7.2 6.2 6.1 6.4 7.2]\n",
      " [7.4 7.9 6.4 6.3 6.1]\n",
      " [7.7 6.3 6.4 6.  6.9]\n",
      " [6.7 6.9 5.8 6.8 6.7]\n",
      " [6.7 6.3 6.5 6.2 5.9]]\n",
      "[4.7 4.5 4.9 4.  4.6 4.5 4.7 3.3 4.6 3.9 3.5 4.2 4.  4.7 3.6 4.4 4.5 4.1\n",
      " 4.5 3.9 4.8 4.  4.9 4.7 4.3 4.4 4.8 5.  4.5 3.5 3.8 3.7 3.9 5.1 4.5 4.5\n",
      " 4.7 4.4 4.1 4.  4.4 4.6 4.  3.3 4.2 4.2 4.2 4.3 3.  4.1 6.  5.1 5.9 5.6\n",
      " 5.8 6.6 4.5 6.3 5.8 6.1 5.1 5.3 5.5 5.  5.1 5.3 5.5 6.7 6.9 5.  5.7 4.9\n",
      " 6.7 4.9 5.7 6.  4.8 4.9 5.6 5.8 6.1 6.4 5.6 5.1 5.6 6.1 5.6 5.5 4.8 5.4\n",
      " 5.6 5.1 5.1 5.9 5.7 5.2 5.  5.2 5.4 5.1]\n"
     ]
    }
   ],
   "source": [
    "def addition(a,b):\n",
    "    a += 5\n",
    "    b += 10\n",
    "    \n",
    "    return x,y\n",
    "\n",
    "a = 10\n",
    "b = 15\n",
    "a , b = addition(a,b)\n",
    "print (a)\n",
    "print(b)"
   ]
  },
  {
   "cell_type": "code",
   "execution_count": 80,
   "metadata": {},
   "outputs": [
    {
     "name": "stdout",
     "output_type": "stream",
     "text": [
      "0\n"
     ]
    }
   ],
   "source": [
    "# Creates a list containing 5 lists, each of 8 items, all set to 0\n",
    "w, h = 8, 5;\n",
    "Matrix = [[0 for x in range(w)] for y in range(h)] \n",
    "print(Matrix[0][0])"
   ]
  },
  {
   "cell_type": "code",
   "execution_count": 81,
   "metadata": {},
   "outputs": [
    {
     "name": "stdout",
     "output_type": "stream",
     "text": [
      "s\n",
      "t\n",
      "r\n",
      "s\n",
      "t\n",
      "r\n",
      "s\n",
      "t\n",
      "r\n",
      "s\n",
      "t\n",
      "r\n",
      "s\n",
      "t\n",
      "r\n",
      "s\n",
      "t\n",
      "r\n",
      "s\n",
      "t\n",
      "r\n",
      "s\n",
      "t\n",
      "r\n",
      "s\n",
      "t\n",
      "r\n",
      "s\n",
      "t\n",
      "r\n",
      "The end\n"
     ]
    }
   ],
   "source": [
    "# Use of break statement inside loop\n",
    "for i in range (0,10):\n",
    "    for val in \"string\":\n",
    "        if val == \"i\":\n",
    "            break\n",
    "        print(val)\n",
    "\n",
    "print(\"The end\")"
   ]
  },
  {
   "cell_type": "code",
   "execution_count": null,
   "metadata": {},
   "outputs": [],
   "source": [
    "         "
   ]
  },
  {
   "cell_type": "code",
   "execution_count": null,
   "metadata": {},
   "outputs": [],
   "source": [
    "array = []\n",
    "array.append(5)\n",
    "array.append(10)\n",
    "print(array[0])\n",
    "print(array[1])"
   ]
  },
  {
   "cell_type": "code",
   "execution_count": null,
   "metadata": {},
   "outputs": [],
   "source": [
    "for i in range (1, 10):\n",
    "    print (i)"
   ]
  },
  {
   "cell_type": "code",
   "execution_count": 1,
   "metadata": {},
   "outputs": [
    {
     "name": "stdout",
     "output_type": "stream",
     "text": [
      "it is 1\n"
     ]
    }
   ],
   "source": [
    "example = [0.,1.,2.]\n",
    "if (example[1] == 1):\n",
    "    print(\"it is 1\")"
   ]
  },
  {
   "cell_type": "code",
   "execution_count": null,
   "metadata": {},
   "outputs": [],
   "source": []
  }
 ],
 "metadata": {
  "kernelspec": {
   "display_name": "Python 3",
   "language": "python",
   "name": "python3"
  },
  "language_info": {
   "codemirror_mode": {
    "name": "ipython",
    "version": 3
   },
   "file_extension": ".py",
   "mimetype": "text/x-python",
   "name": "python",
   "nbconvert_exporter": "python",
   "pygments_lexer": "ipython3",
   "version": "3.7.3"
  }
 },
 "nbformat": 4,
 "nbformat_minor": 2
}
